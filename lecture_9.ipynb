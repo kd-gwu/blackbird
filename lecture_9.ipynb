{
  "nbformat": 4,
  "nbformat_minor": 0,
  "metadata": {
    "colab": {
      "provenance": [],
      "authorship_tag": "ABX9TyMTf5NBQh+SaWLfsqxHi5Gt",
      "include_colab_link": true
    },
    "kernelspec": {
      "name": "python3",
      "display_name": "Python 3"
    },
    "language_info": {
      "name": "python"
    }
  },
  "cells": [
    {
      "cell_type": "markdown",
      "metadata": {
        "id": "view-in-github",
        "colab_type": "text"
      },
      "source": [
        "<a href=\"https://colab.research.google.com/github/kd-gwu/blackbird/blob/master/lecture_9.ipynb\" target=\"_parent\"><img src=\"https://colab.research.google.com/assets/colab-badge.svg\" alt=\"Open In Colab\"/></a>"
      ]
    },
    {
      "cell_type": "markdown",
      "source": [
        "Lecture-9 code samples"
      ],
      "metadata": {
        "id": "yz1i6OF4Hd-Q"
      }
    },
    {
      "cell_type": "code",
      "execution_count": 1,
      "metadata": {
        "colab": {
          "base_uri": "https://localhost:8080/"
        },
        "id": "R19V1ihYHXue",
        "outputId": "e403d13b-f149-45f7-8798-02d327569566"
      },
      "outputs": [
        {
          "output_type": "stream",
          "name": "stdout",
          "text": [
            "30\n"
          ]
        }
      ],
      "source": [
        "# Find the largest number in a list\n",
        "n = [30, 10, -45, 5, 20]\n",
        "m = n[0]\n",
        "for i in n:\n",
        "  if i > m:\n",
        "    m = i\n",
        "\n",
        "print(m)"
      ]
    },
    {
      "cell_type": "code",
      "source": [
        "# Find the 2nd largest\n",
        "n = [30, 10, -45, 5, 20]\n",
        "n.sort(reverse=True)\n",
        "if len(n) >= 2:\n",
        "  m = n[1]\n",
        "  print(m)"
      ],
      "metadata": {
        "colab": {
          "base_uri": "https://localhost:8080/"
        },
        "id": "L7KPLwmUHmFA",
        "outputId": "6e67c85e-7152-47e7-adaf-0d8e688d622d"
      },
      "execution_count": 2,
      "outputs": [
        {
          "output_type": "stream",
          "name": "stdout",
          "text": [
            "20\n"
          ]
        }
      ]
    },
    {
      "cell_type": "code",
      "source": [
        "# Find the 3 largest elements from the list\n",
        "\n",
        "def func(l, c=3):\n",
        "  s = sorted(l, reverse=True)\n",
        "  m = s[:c]\n",
        "  return m\n",
        "\n",
        "n = [30, 10, 45, 5, 20, 50, 15, 3, 345, 54, 67, 87, 98, 100, 34]\n",
        "r = func(n, 3)\n",
        "print(r)"
      ],
      "metadata": {
        "colab": {
          "base_uri": "https://localhost:8080/"
        },
        "id": "YoO2TdYGHpdZ",
        "outputId": "2503fdb0-6444-4240-e14b-33e16ba2e5ba"
      },
      "execution_count": 3,
      "outputs": [
        {
          "output_type": "stream",
          "name": "stdout",
          "text": [
            "[345, 100, 98]\n"
          ]
        }
      ]
    },
    {
      "cell_type": "code",
      "source": [
        "# find special character in a list\n",
        "\n",
        "import re\n",
        "def func(i):\n",
        "  p = r'[!@#$%^&*()_+{}\\[\\]:;<>,.?~\\\\\\/\\'\"\\-=]'\n",
        "  return True if re.search(p, i) else False\n",
        "\n",
        "\n",
        "i = input(\"enter your input here\")\n",
        "r = func(i)\n",
        "if r:\n",
        "  print(\"Found\")\n",
        "else:\n",
        "  print(\"Not Fond\")"
      ],
      "metadata": {
        "colab": {
          "base_uri": "https://localhost:8080/"
        },
        "id": "pMeCeL4_Hs4z",
        "outputId": "f139c2f4-a56f-4177-e4f3-39437da6d776"
      },
      "execution_count": 4,
      "outputs": [
        {
          "output_type": "stream",
          "name": "stdout",
          "text": [
            "enter your input herer\n",
            "Not Fond\n"
          ]
        }
      ]
    },
    {
      "cell_type": "code",
      "source": [
        "# Extract Unique dictionary values\n",
        "m = {\n",
        "  'a': 10,\n",
        "  'b': 20,\n",
        "  'c': 10,\n",
        "  'd': 30,\n",
        "  'e': 20\n",
        "}\n",
        "print(set(m.values()))"
      ],
      "metadata": {
        "colab": {
          "base_uri": "https://localhost:8080/"
        },
        "id": "3cJ03HGFH06j",
        "outputId": "89309142-4ec3-44f0-fe4c-cbafc96a1033"
      },
      "execution_count": 5,
      "outputs": [
        {
          "output_type": "stream",
          "name": "stdout",
          "text": [
            "{10, 20, 30}\n"
          ]
        }
      ]
    },
    {
      "cell_type": "code",
      "source": [
        "d1 = {'a': 1, 'b': 2}\n",
        "d2 = {'c': 3, 'd': 4}\n",
        "m = {**d1, **d2}\n",
        "print(m)"
      ],
      "metadata": {
        "colab": {
          "base_uri": "https://localhost:8080/"
        },
        "id": "kcMiz4NHH4cV",
        "outputId": "4dfd2051-ba57-4886-86d5-dee8fc2f978b"
      },
      "execution_count": 6,
      "outputs": [
        {
          "output_type": "stream",
          "name": "stdout",
          "text": [
            "{'a': 1, 'b': 2, 'c': 3, 'd': 4}\n"
          ]
        }
      ]
    },
    {
      "cell_type": "code",
      "source": [
        "#\n",
        "# NOTE: YOU WILL NOT GET ANY COMMENTS IN THE EXAM\n",
        "#\n",
        "# print passwords from the list that matches the following rules\n",
        "# 1. At least 1 letter between [a-z]\n",
        "# 2. At least 1 number between [0-9]\n",
        "# 3. At least 1 letter between [A-Z]\n",
        "# 4. At least 1 character from [$#@]\n",
        "# 5. Minimum length of transaction password: 6\n",
        "# 6. Maximum length of transaction password: 12\n",
        "\n",
        "passwords = [\"BadPass234@1\", \"g**dpass%%F1#\" , \"2passwRDd3E*\", \"2W#$#$#$e3345\"]\n",
        "import re\n",
        "def func(password):\n",
        "  if 6 <= len(password) <= 12:\n",
        "    if re.match(r\"^(?=.*[a-z])(?=.*[A-Z])(?=.*[0-9])(?=.*[$#@])\", p):\n",
        "      return True\n",
        "  return False\n",
        "\n",
        "\n",
        "valid_passwords = []\n",
        "for p in passwords:\n",
        "  if func(p):\n",
        "    valid_passwords.append(p)\n",
        "print(','.join(valid_passwords))"
      ],
      "metadata": {
        "colab": {
          "base_uri": "https://localhost:8080/"
        },
        "id": "0Uv2XEr0H7Ab",
        "outputId": "0254c94d-7334-4fc7-81d7-8baf89d4ca26"
      },
      "execution_count": 7,
      "outputs": [
        {
          "output_type": "stream",
          "name": "stdout",
          "text": [
            "BadPass234@1\n"
          ]
        }
      ]
    },
    {
      "cell_type": "code",
      "source": [
        "# generate (see the yield function) numbers divisible by 7 between 1 and 50\n",
        "import math\n",
        "class c:\n",
        "  def __init__(self,n):\n",
        "    self.n = n\n",
        "  def func(self):\n",
        "    for n in range(1, self.n + 1):\n",
        "      if n % 7  == 0:\n",
        "        yield n\n",
        "\n",
        "n = 50\n",
        "d = c(n).func()\n",
        "print([n for n in d])"
      ],
      "metadata": {
        "colab": {
          "base_uri": "https://localhost:8080/"
        },
        "id": "flseDNVlH_0V",
        "outputId": "8a06c557-a0cf-431e-d813-9211ee7263b4"
      },
      "execution_count": 8,
      "outputs": [
        {
          "output_type": "stream",
          "name": "stdout",
          "text": [
            "[7, 14, 21, 28, 35, 42, 49]\n"
          ]
        }
      ]
    },
    {
      "cell_type": "code",
      "source": [
        "# find repeated characters in a string\n",
        "\n",
        "def func(i):\n",
        "  c = {}\n",
        "  d = []\n",
        "  for i in i:\n",
        "    if i in c:\n",
        "      c[i] += 1\n",
        "    else:\n",
        "      c[i] = 1\n",
        "\n",
        "  for i, j in c.items():\n",
        "    if j > 1:\n",
        "      d.append(i)\n",
        "  return d\n",
        "\n",
        "i = \"Apples and oranges\"\n",
        "print(func(i))"
      ],
      "metadata": {
        "colab": {
          "base_uri": "https://localhost:8080/"
        },
        "id": "kvV52r2_ICiv",
        "outputId": "3b6c28bc-c97d-47fa-c949-b41f4a547ff7"
      },
      "execution_count": 9,
      "outputs": [
        {
          "output_type": "stream",
          "name": "stdout",
          "text": [
            "['p', 'e', 's', ' ', 'a', 'n']\n"
          ]
        }
      ]
    },
    {
      "cell_type": "code",
      "source": [
        "# print user name from email addresss\n",
        "def func(email):\n",
        "  p = email.split('@')\n",
        "  return p[0].replace(\".\", \" \") if len(p) == 2 else \"\"\n",
        "\n",
        "e = \"Ravi.Mallarapu@gmail.com\"\n",
        "print(func(e))"
      ],
      "metadata": {
        "colab": {
          "base_uri": "https://localhost:8080/"
        },
        "id": "7zxEDmNeIFQ3",
        "outputId": "735f62d8-6a03-4434-a7c4-88d21b546967"
      },
      "execution_count": 10,
      "outputs": [
        {
          "output_type": "stream",
          "name": "stdout",
          "text": [
            "Ravi Mallarapu\n"
          ]
        }
      ]
    },
    {
      "cell_type": "code",
      "source": [
        "# find area of hexagon\n",
        "\n",
        "import math\n",
        "def func(x):\n",
        "  area = (3 * math.sqrt(3) * x**2) / 2\n",
        "  return round(area, 1)\n",
        "print(func(1))"
      ],
      "metadata": {
        "colab": {
          "base_uri": "https://localhost:8080/"
        },
        "id": "0o4PlC7JIGf4",
        "outputId": "4ac16769-a150-426b-a863-96c2c17879fd"
      },
      "execution_count": 11,
      "outputs": [
        {
          "output_type": "stream",
          "name": "stdout",
          "text": [
            "2.6\n"
          ]
        }
      ]
    },
    {
      "cell_type": "code",
      "source": [
        "# find sum of the numbers that are evenly divided by c from the range a, b inclusive.\n",
        "\n",
        "def func(a, b, c):\n",
        "  total = 0\n",
        "  for num in range(a, b + 1):\n",
        "    if num % c == 0:\n",
        "      total += num\n",
        "  return total\n",
        "print(func(1, 5, 2))"
      ],
      "metadata": {
        "colab": {
          "base_uri": "https://localhost:8080/"
        },
        "id": "PTBo1ibsIJdU",
        "outputId": "4627d471-eca5-4a4c-fa1c-2d3c370b18cd"
      },
      "execution_count": 12,
      "outputs": [
        {
          "output_type": "stream",
          "name": "stdout",
          "text": [
            "6\n"
          ]
        }
      ]
    },
    {
      "cell_type": "code",
      "source": [
        "# create a linked list data structure\n",
        "\n",
        "class N:\n",
        "  def __init__(self, d):\n",
        "    self.d = d\n",
        "    self.n = None\n",
        "\n",
        "  def __str__(self):\n",
        "    return self.d\n",
        "\n",
        "n1 = N(\"a\")\n",
        "n2 = N(\"b\")\n",
        "n3 = N(\"c\")\n",
        "\n",
        "n1.n = n2\n",
        "n2.n = n3\n",
        "\n",
        "print(n1)\n",
        "print(n1.n)\n",
        "print(n1.n.n)"
      ],
      "metadata": {
        "colab": {
          "base_uri": "https://localhost:8080/"
        },
        "id": "LPcQsTcOINVQ",
        "outputId": "c4c0dcf8-d88c-4093-ff6d-726323363476"
      },
      "execution_count": 13,
      "outputs": [
        {
          "output_type": "stream",
          "name": "stdout",
          "text": [
            "a\n",
            "b\n",
            "c\n"
          ]
        }
      ]
    },
    {
      "cell_type": "code",
      "source": [
        "# create a tree data structure\n",
        "\n",
        "class T:\n",
        "  def __init__(self, d):\n",
        "    self.d = d\n",
        "    self.l = None\n",
        "    self.r = None\n",
        "\n",
        "  def __str__(self):\n",
        "    return self.d\n",
        "\n",
        "n1 = T(\"a\")\n",
        "n1.l = T(\"b\")\n",
        "n1.r = T(\"c\")\n",
        "\n",
        "print(n1)\n",
        "print(n1.l)\n",
        "print(n1.r)"
      ],
      "metadata": {
        "colab": {
          "base_uri": "https://localhost:8080/"
        },
        "id": "bllHWVweIOyo",
        "outputId": "f51bb015-0314-41bf-f67b-ca025436e3ee"
      },
      "execution_count": 14,
      "outputs": [
        {
          "output_type": "stream",
          "name": "stdout",
          "text": [
            "a\n",
            "b\n",
            "c\n"
          ]
        }
      ]
    },
    {
      "cell_type": "code",
      "source": [
        "# Iterative Binary Search\n",
        "\n",
        "def func(arr, x):\n",
        "\tlow = 0\n",
        "\thigh = len(arr) - 1\n",
        "\tmid = 0\n",
        "\twhile low <= high:\n",
        "\t\tmid = (high + low) // 2\n",
        "\t\tif arr[mid] < x:\n",
        "\t\t\tlow = mid + 1\n",
        "\t\telif arr[mid] > x:\n",
        "\t\t\thigh = mid - 1\n",
        "\t\telse:\n",
        "\t\t\treturn mid\n",
        "\treturn -1\n",
        "\n",
        "\n",
        "# Test array\n",
        "a = [ 2, 3, 4, 10, 40 ]\n",
        "x = 10\n",
        "\n",
        "result = func(a, x)\n",
        "\n",
        "print('Found') if result != -1 else print(\"Not Found\")"
      ],
      "metadata": {
        "colab": {
          "base_uri": "https://localhost:8080/"
        },
        "id": "sQ-K4jmLITD-",
        "outputId": "fd3ebbe6-7f5c-4a24-ed34-ee545fc2e09e"
      },
      "execution_count": 15,
      "outputs": [
        {
          "output_type": "stream",
          "name": "stdout",
          "text": [
            "Found\n"
          ]
        }
      ]
    },
    {
      "cell_type": "code",
      "source": [
        "# recursive quick sort\n",
        "def func(a):\n",
        "    return a if len(a) <= 1 else func([x for x in a[1:] if x < a[0]]) + [a[0]] + func([x for x in a[1:] if x >= a[0]])\n",
        "\n",
        "a = [ 12, 33, 4, 10, 40 ]\n",
        "print(func(a))"
      ],
      "metadata": {
        "colab": {
          "base_uri": "https://localhost:8080/"
        },
        "id": "9K4PJrbaIWVn",
        "outputId": "8b287b75-5541-4fe8-a8f9-ac18bd6c5cd2"
      },
      "execution_count": 16,
      "outputs": [
        {
          "output_type": "stream",
          "name": "stdout",
          "text": [
            "[4, 10, 12, 33, 40]\n"
          ]
        }
      ]
    },
    {
      "cell_type": "code",
      "source": [
        "# breadth first search\n",
        "\n",
        "from collections import deque\n",
        "def func(g, s, q):\n",
        "    r = set()\n",
        "    queue = deque([s])\n",
        "\n",
        "    while queue:\n",
        "        v = queue.popleft()\n",
        "        if v == q:\n",
        "            return True\n",
        "        r.add(v)\n",
        "\n",
        "        for n in g[v]:\n",
        "            if n not in r:\n",
        "                queue.append(n)\n",
        "                r.add(n)\n",
        "    return False\n",
        "\n",
        "g = {\n",
        "    'A': ['B', 'C'],\n",
        "    'B': ['A', 'D', 'E'],\n",
        "    'C': ['A', 'F'],\n",
        "    'D': ['B'],\n",
        "    'E': ['B', 'F'],\n",
        "    'F': ['C', 'E']\n",
        "}\n",
        "\n",
        "s = \"F\"\n",
        "q = \"D\"\n",
        "res = func(g, s, q)\n",
        "print(\"Found\") if res else print (\"Not Found\")"
      ],
      "metadata": {
        "colab": {
          "base_uri": "https://localhost:8080/"
        },
        "id": "nZscARz0IY0i",
        "outputId": "875dcc71-c184-426a-ff13-cb6b3de7cf95"
      },
      "execution_count": 17,
      "outputs": [
        {
          "output_type": "stream",
          "name": "stdout",
          "text": [
            "Found\n"
          ]
        }
      ]
    }
  ]
}